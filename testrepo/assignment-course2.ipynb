{
 "cells": [
  {
   "cell_type": "markdown",
   "id": "ac1881c1-9f1d-4ef1-94e1-7a7ec539b20c",
   "metadata": {},
   "source": [
    "<h1>My Jupyter Notebook on IBM Watson Studio</h1>"
   ]
  },
  {
   "cell_type": "markdown",
   "id": "b546e1f1-cc50-48c0-ad10-4f8237a76fe7",
   "metadata": {},
   "source": [
    "<span style=\"font-size:26px; font-weight:bold;\">Felice Benita</span><br/>\n",
    "<span style=\"font-size:20px;\">Data Analysts/Data Scientist</span>"
   ]
  },
  {
   "cell_type": "markdown",
   "id": "48ae51db-04b4-4f94-acc1-1238a880a389",
   "metadata": {},
   "source": [
    "<span style=\"font-size:20px; font-style:italic;\">I am interested in data science because I love everything that has to do with data and data-driven decision making.</span>"
   ]
  },
  {
   "cell_type": "markdown",
   "id": "0d6c4094-e78a-4f19-b93c-621d4c49ae31",
   "metadata": {},
   "source": [
    "<h3>This code multiplies the number 10 by 8 then prints the result to the screen.</h3>"
   ]
  },
  {
   "cell_type": "code",
   "execution_count": 2,
   "id": "4ee0cd90-99d3-4de0-9233-725adc60294e",
   "metadata": {},
   "outputs": [
    {
     "name": "stdout",
     "output_type": "stream",
     "text": [
      "80\n"
     ]
    }
   ],
   "source": [
    "x = 10;\n",
    "y = 8;\n",
    "print(x*y);"
   ]
  },
  {
   "cell_type": "markdown",
   "id": "9540cea9-cf2a-4229-89f3-a33511f97b6d",
   "metadata": {},
   "source": [
    "<ul><li>one</li><li>two</li><li>three</li></ul>\n",
    "<ol><li>one</li><li>two</li><li>three</li></ol>\n",
    "<table><tr style=\"border: 1px solid #568EB6;\"><td style=\"border: 1px solid #568EB6;\">Column 1</td><td style=\"border: 1px solid #568EB6;\">Column 2</td><td style=\"border: 1px solid #568EB6;\">Column 3</td></tr>\n",
    "    <tr style=\"border: 1px solid #568EB6;\"><td style=\"border: 1px solid #568EB6;\">Content 1-1</td><td style=\"border: 1px solid #568EB6;\">Content 1-2</td><td style=\"border: 1px solid #568EB6;\">Content 1-3</td></tr>\n",
    "    <tr style=\"border: 1px solid #568EB6;\"><td style=\"border: 1px solid #568EB6;\">Content 2-1</td><td style=\"border: 1px solid #568EB6;\">Content 2-2</td><td style=\"border: 1px solid #568EB6;\">Content 2-3</td></tr>\n",
    "</table><br/>\n",
    "<a href=\"www.google.com\" target=\"_blank\">Google Search</a>\n",
    "<blockquote>Just blockquote...</blockquote> "
   ]
  },
  {
   "cell_type": "code",
   "execution_count": null,
   "id": "f57c9464-4c8c-4fc0-bff1-21dd683abf97",
   "metadata": {},
   "outputs": [],
   "source": []
  }
 ],
 "metadata": {
  "kernelspec": {
   "display_name": "Python 3 (ipykernel)",
   "language": "python",
   "name": "python3"
  },
  "language_info": {
   "codemirror_mode": {
    "name": "ipython",
    "version": 3
   },
   "file_extension": ".py",
   "mimetype": "text/x-python",
   "name": "python",
   "nbconvert_exporter": "python",
   "pygments_lexer": "ipython3",
   "version": "3.10.9"
  }
 },
 "nbformat": 4,
 "nbformat_minor": 5
}
